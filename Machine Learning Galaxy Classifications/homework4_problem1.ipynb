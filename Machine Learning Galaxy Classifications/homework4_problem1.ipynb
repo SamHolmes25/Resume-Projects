{
 "cells": [
  {
   "cell_type": "markdown",
   "metadata": {},
   "source": [
    "# Problem 1"
   ]
  },
  {
   "cell_type": "markdown",
   "metadata": {},
   "source": [
    "The main point of this problem is to estimate how far away our sun sits from the center of the Milky Way, emulating the work of Shapley."
   ]
  },
  {
   "cell_type": "markdown",
   "metadata": {},
   "source": [
    "We begin by importing useful packages, such as pandas (for data manipulation), numpy(for math), and matplotlib."
   ]
  },
  {
   "cell_type": "code",
   "execution_count": 28,
   "metadata": {},
   "outputs": [],
   "source": [
    "import pandas as pd\n",
    "import numpy as np\n",
    "import matplotlib.pyplot as plt\n",
    "import re"
   ]
  },
  {
   "cell_type": "markdown",
   "metadata": {},
   "source": [
    "We are given a CSV with information on globular clusters within the halo of the Milky Way. We need to read in the data, and examine it. Immediately, we can see that our right ascention and declination columns need to be converted into decimal equivalents."
   ]
  },
  {
   "cell_type": "code",
   "execution_count": 29,
   "metadata": {},
   "outputs": [
    {
     "data": {
      "text/html": [
       "<div>\n",
       "<style scoped>\n",
       "    .dataframe tbody tr th:only-of-type {\n",
       "        vertical-align: middle;\n",
       "    }\n",
       "\n",
       "    .dataframe tbody tr th {\n",
       "        vertical-align: top;\n",
       "    }\n",
       "\n",
       "    .dataframe thead th {\n",
       "        text-align: right;\n",
       "    }\n",
       "</style>\n",
       "<table border=\"1\" class=\"dataframe\">\n",
       "  <thead>\n",
       "    <tr style=\"text-align: right;\">\n",
       "      <th></th>\n",
       "      <th>Identifier</th>\n",
       "      <th>Right ascension</th>\n",
       "      <th>Declination</th>\n",
       "      <th>Constellation</th>\n",
       "      <th>Distance (kpc)</th>\n",
       "    </tr>\n",
       "  </thead>\n",
       "  <tbody>\n",
       "    <tr>\n",
       "      <th>0</th>\n",
       "      <td>FSR 9</td>\n",
       "      <td>18h 28m 30.6s</td>\n",
       "      <td>-31° 54′ 24″</td>\n",
       "      <td>Sagittarius</td>\n",
       "      <td>6.9</td>\n",
       "    </tr>\n",
       "    <tr>\n",
       "      <th>1</th>\n",
       "      <td>FSR 19</td>\n",
       "      <td>17h 35m 38.4s</td>\n",
       "      <td>-21° 04′ 12″</td>\n",
       "      <td>Ophiuchus</td>\n",
       "      <td>7.2</td>\n",
       "    </tr>\n",
       "    <tr>\n",
       "      <th>2</th>\n",
       "      <td>FSR 25</td>\n",
       "      <td>17h 41m 43.2s</td>\n",
       "      <td>-19° 34′ 16″</td>\n",
       "      <td>Ophiuchus</td>\n",
       "      <td>7.0</td>\n",
       "    </tr>\n",
       "    <tr>\n",
       "      <th>3</th>\n",
       "      <td>FSR 190</td>\n",
       "      <td>20h 05m 31.3s</td>\n",
       "      <td>+33° 34′ 09″</td>\n",
       "      <td>Cygnus</td>\n",
       "      <td>10.0</td>\n",
       "    </tr>\n",
       "    <tr>\n",
       "      <th>4</th>\n",
       "      <td>FSR 584</td>\n",
       "      <td>02h 27m 15s</td>\n",
       "      <td>+61° 37′ 28″</td>\n",
       "      <td>Cassiopeia</td>\n",
       "      <td>1.4</td>\n",
       "    </tr>\n",
       "    <tr>\n",
       "      <th>...</th>\n",
       "      <td>...</td>\n",
       "      <td>...</td>\n",
       "      <td>...</td>\n",
       "      <td>...</td>\n",
       "      <td>...</td>\n",
       "    </tr>\n",
       "    <tr>\n",
       "      <th>249</th>\n",
       "      <td>VVV CL150</td>\n",
       "      <td>17h 50m 41.0s</td>\n",
       "      <td>-25° 13′ 06″</td>\n",
       "      <td>Sagittarius</td>\n",
       "      <td>8.1</td>\n",
       "    </tr>\n",
       "    <tr>\n",
       "      <th>250</th>\n",
       "      <td>VVV CL153</td>\n",
       "      <td>17h 53m 32.0s</td>\n",
       "      <td>-25° 22′ 56″</td>\n",
       "      <td>Sagittarius</td>\n",
       "      <td>10.0</td>\n",
       "    </tr>\n",
       "    <tr>\n",
       "      <th>251</th>\n",
       "      <td>VVV CL154</td>\n",
       "      <td>17h 55m 08.0s</td>\n",
       "      <td>-28° 06′ 01″</td>\n",
       "      <td>Sagittarius</td>\n",
       "      <td>8.9</td>\n",
       "    </tr>\n",
       "    <tr>\n",
       "      <th>252</th>\n",
       "      <td>VVV CL160</td>\n",
       "      <td>18h 06m 57.0s</td>\n",
       "      <td>-20° 00′ 40″</td>\n",
       "      <td>Sagittarius</td>\n",
       "      <td>6.8</td>\n",
       "    </tr>\n",
       "    <tr>\n",
       "      <th>253</th>\n",
       "      <td>Balbinot 1</td>\n",
       "      <td>22h 10m 42.82s</td>\n",
       "      <td>+14° 56′ 49.0″</td>\n",
       "      <td>Pegasus</td>\n",
       "      <td>31.9</td>\n",
       "    </tr>\n",
       "  </tbody>\n",
       "</table>\n",
       "<p>254 rows × 5 columns</p>\n",
       "</div>"
      ],
      "text/plain": [
       "     Identifier Right ascension     Declination Constellation  Distance (kpc)\n",
       "0         FSR 9   18h 28m 30.6s    -31° 54′ 24″   Sagittarius             6.9\n",
       "1        FSR 19   17h 35m 38.4s    -21° 04′ 12″     Ophiuchus             7.2\n",
       "2        FSR 25   17h 41m 43.2s    -19° 34′ 16″     Ophiuchus             7.0\n",
       "3       FSR 190   20h 05m 31.3s    +33° 34′ 09″        Cygnus            10.0\n",
       "4       FSR 584     02h 27m 15s    +61° 37′ 28″    Cassiopeia             1.4\n",
       "..          ...             ...             ...           ...             ...\n",
       "249   VVV CL150   17h 50m 41.0s    -25° 13′ 06″   Sagittarius             8.1\n",
       "250   VVV CL153   17h 53m 32.0s    -25° 22′ 56″   Sagittarius            10.0\n",
       "251   VVV CL154   17h 55m 08.0s    -28° 06′ 01″   Sagittarius             8.9\n",
       "252   VVV CL160   18h 06m 57.0s    -20° 00′ 40″   Sagittarius             6.8\n",
       "253  Balbinot 1  22h 10m 42.82s  +14° 56′ 49.0″       Pegasus            31.9\n",
       "\n",
       "[254 rows x 5 columns]"
      ]
     },
     "execution_count": 29,
     "metadata": {},
     "output_type": "execute_result"
    }
   ],
   "source": [
    "data=pd.read_csv('C:\\\\Users\\\\lazyp\\\\Desktop\\\\Willamette Univeristy\\\\SPRING 2024\\\\data275\\\\homework-4-kendall-and-sam-main\\\\data\\\\MW_star_clusters.csv')\n",
    "data"
   ]
  },
  {
   "cell_type": "markdown",
   "metadata": {},
   "source": [
    "We convert these columns by doing some string manipulation, which we save as functions. We converted the Right Ascension from hours into decimals via the formula $((\\text{hours})+\\frac{\\text{minutes}}{60}+\\frac{\\text{seconds}}{3600})*15$. For the declination we just used the formula $(\\text{degrees}+\\frac{\\text{minutes}}{60}+\\frac{\\text{seconds}}{3600})$. "
   ]
  },
  {
   "cell_type": "code",
   "execution_count": 30,
   "metadata": {},
   "outputs": [],
   "source": [
    "def convert_to_RA(strng):\n",
    "    strng=strng\n",
    "    strng=strng.replace('h','')\n",
    "    strng=strng.replace('m','')\n",
    "    strng=strng.replace('s','')\n",
    "    strng=strng.rstrip()\n",
    "    strng=re.sub(r'\\n.*','',strng,flags=re.DOTALL)\n",
    "    strng=strng.split()\n",
    "    strng=(float(strng[0])+(float(strng[1])/60)+(float(strng[2])/3600))*15\n",
    "    return strng\n",
    "\n",
    "def convert_to_DEC(strng):\n",
    "    strng=strng\n",
    "    strng=strng.replace('°','')\n",
    "    strng=strng.replace('′','')\n",
    "    strng=strng.replace('″','')\n",
    "    strng=strng.rstrip()\n",
    "    strng=re.sub(r'\\n.*','',strng,flags=re.DOTALL)\n",
    "    strng=strng.split()\n",
    "    strng=float(strng[0])+(float(strng[1])/60)+(float(strng[2])/3600)\n",
    "    return strng"
   ]
  },
  {
   "cell_type": "markdown",
   "metadata": {},
   "source": [
    "We then apply these functions to our data:"
   ]
  },
  {
   "cell_type": "code",
   "execution_count": 31,
   "metadata": {},
   "outputs": [],
   "source": [
    "data['RA_deg']=data['Right ascension'].apply(convert_to_RA)\n",
    "data['DEC_deg']=data['Declination'].apply(convert_to_DEC)"
   ]
  },
  {
   "cell_type": "markdown",
   "metadata": {},
   "source": [
    "\n",
    "By using these formulas  we can calculate the x,y and z distance from us using Right Ascension($\\delta$), Declenation($\\alpha$) and distance to star($R$). \n",
    "\n",
    "Formula to find X cordinate:\n",
    "$X = R \\cos(\\delta)\\cos(\\alpha)$\n",
    "\n",
    "Formula to find Y cordinate:\n",
    "$Y = R \\cos(\\delta)\\sin(\\alpha)$ \n",
    "\n",
    "Formula to find Z cordinate:\n",
    "$Z = R \\sin(\\delta)$ \n",
    "\n",
    "For ease of use, we have created functions."
   ]
  },
  {
   "cell_type": "code",
   "execution_count": 32,
   "metadata": {},
   "outputs": [],
   "source": [
    "def convert_distance_to_x(distance,Declination,Right_ascension):\n",
    "    return distance*np.cos(Declination*(np.pi/180))*np.cos(Right_ascension*(np.pi/180))\n",
    "def convert_distance_to_y(distance,Declination,Right_ascension):\n",
    "    return distance*np.cos(Declination*(np.pi/180))*np.sin(Right_ascension*(np.pi/180))\n",
    "def convert_distance_to_z(distance,Declination):\n",
    "    return distance*np.sin(Declination*(np.pi/180))"
   ]
  },
  {
   "cell_type": "markdown",
   "metadata": {},
   "source": [
    "We then apply these function, and save the result as X_cord, Y_cord, and Z_cord columns in the data set."
   ]
  },
  {
   "cell_type": "code",
   "execution_count": 33,
   "metadata": {},
   "outputs": [],
   "source": [
    "data['X_cord']=convert_distance_to_x(data['Distance (kpc)'],data['DEC_deg'],data['RA_deg'])\n",
    "data['Y_cord']=convert_distance_to_y(data['Distance (kpc)'],data['DEC_deg'],data['RA_deg'])\n",
    "data['Z_cord']=convert_distance_to_z(data['Distance (kpc)'],data['DEC_deg'])"
   ]
  },
  {
   "cell_type": "markdown",
   "metadata": {},
   "source": [
    "Once we have calculated the x,y and z cordinates of all the stars, we can then average all of them together to find the most average x cordinate, y cordinate and z cordinate.  We save these averages as x_mean, y_mean, and z_mean. These means will roughly tell us where the center of the galaxy is in reference to us."
   ]
  },
  {
   "cell_type": "code",
   "execution_count": 34,
   "metadata": {},
   "outputs": [],
   "source": [
    "x_mean=data['X_cord'].mean()\n",
    "y_mean=data['Y_cord'].mean()\n",
    "z_mean=data['Z_cord'].mean()"
   ]
  },
  {
   "cell_type": "markdown",
   "metadata": {},
   "source": [
    "     \n",
    "We then can use the average x,y and z cordinate to find how far we are from the center of the galaxy. This is done by using the distance formula $\\sqrt{x^2 + y^2 + z^2}$. With this, we learn that we are 7.016 kiloparsecs away from the center of the Milky Way. This means we are about 1000 parsecs off of the actual number.\n",
    "    \n"
   ]
  },
  {
   "cell_type": "code",
   "execution_count": 35,
   "metadata": {},
   "outputs": [
    {
     "name": "stdout",
     "output_type": "stream",
     "text": [
      "7.016525499501197\n"
     ]
    }
   ],
   "source": [
    "distance=np.sqrt(x_mean**2+y_mean**2+z_mean**2)\n",
    "print(distance)"
   ]
  },
  {
   "cell_type": "markdown",
   "metadata": {},
   "source": [
    "### Extra Credit"
   ]
  },
  {
   "cell_type": "markdown",
   "metadata": {},
   "source": [
    "##### Constellation"
   ]
  },
  {
   "cell_type": "markdown",
   "metadata": {},
   "source": [
    "For the extra credit problem, our goal is to find the constellation that is closest to the center of the Milky Way. In order to do this, we first define a function which will tell us how far a star is from the center of the Milky Way, and apply it to our data."
   ]
  },
  {
   "cell_type": "code",
   "execution_count": 36,
   "metadata": {},
   "outputs": [],
   "source": [
    "def distance_from_center(x_cord,y_cord,z_cord):\n",
    "    return (x_mean-x_cord)**2+(y_mean-y_cord)**2+(z_mean-z_cord)**2\n",
    "data['distance_from_center']=distance_from_center(data['X_cord'],data['Y_cord'],data['Z_cord'])"
   ]
  },
  {
   "cell_type": "markdown",
   "metadata": {},
   "source": [
    "Now since there are multiple stars in each constellation, all of which are recorded in this dataset, we need to average out the distance of the stars within each constellation. We do this by creating a list of the unique constellations in the data set and a data frame to store our processed data."
   ]
  },
  {
   "cell_type": "code",
   "execution_count": 45,
   "metadata": {},
   "outputs": [],
   "source": [
    "constellation_list = data['Constellation'].unique()\n",
    "star_frame = pd.DataFrame(constellation_list)"
   ]
  },
  {
   "cell_type": "markdown",
   "metadata": {},
   "source": [
    "We initialize three empty lists: x_list, y_list, and z_list. These lists will be used to store the average distances of stars in each constellation along the x, y, and z axes, respectively."
   ]
  },
  {
   "cell_type": "code",
   "execution_count": 46,
   "metadata": {},
   "outputs": [],
   "source": [
    "x_list=[]\n",
    "y_list=[]\n",
    "z_list=[]"
   ]
  },
  {
   "cell_type": "markdown",
   "metadata": {},
   "source": [
    "We iterate through each unique constellation name to calculate the average distances for stars within each constellation. Within the loop, we compute the average x, y, and z distances of stars belonging to the current constellation. This is achieved by filtering the dataset based on the current constellation and then calculating the mean values of the x, y, and z coordinates. We append the calculated average distances to their respective lists (x_list, y_list, and z_list) for storage."
   ]
  },
  {
   "cell_type": "code",
   "execution_count": 47,
   "metadata": {},
   "outputs": [],
   "source": [
    "for i in range(len(constilation_list)):\n",
    "   x_distance=data['X_cord'][data['Constellation']==constilation_list[i]].mean()\n",
    "   y_distance=data['Y_cord'][data['Constellation']==constilation_list[i]].mean()\n",
    "   z_distance=data['Z_cord'][data['Constellation']==constilation_list[i]].mean()\n",
    "   x_list.append(x_distance)\n",
    "   y_list.append(y_distance)\n",
    "   z_list.append(z_distance)"
   ]
  },
  {
   "cell_type": "markdown",
   "metadata": {},
   "source": [
    "Finally, we add three new columns to the star_frame DataFrame to store the calculated average distances along the x, y, and z axes for each constellation."
   ]
  },
  {
   "cell_type": "code",
   "execution_count": 48,
   "metadata": {},
   "outputs": [],
   "source": [
    "star_frame['x_distance(avg)']=x_list\n",
    "star_frame['y_distance(avg)']=y_list\n",
    "star_frame['z_distance(avg)']=z_list"
   ]
  },
  {
   "cell_type": "markdown",
   "metadata": {},
   "source": [
    "Now we need to calculate the distance from the center, which we can do with our previously defined function."
   ]
  },
  {
   "cell_type": "code",
   "execution_count": 49,
   "metadata": {},
   "outputs": [],
   "source": [
    "star_frame['distance to center']=distance_from_center(star_frame['x_distance(avg)'],star_frame['y_distance(avg)'],star_frame['z_distance(avg)'])"
   ]
  },
  {
   "cell_type": "markdown",
   "metadata": {},
   "source": [
    "Finally, we need to identify which star has the shortest distance to the center of the Milky Way. We do this by indexing for the smallest 'distance to center' value."
   ]
  },
  {
   "cell_type": "code",
   "execution_count": 50,
   "metadata": {},
   "outputs": [],
   "source": [
    "closest_constellation_index = star_frame['distance to center'].argmin()\n"
   ]
  },
  {
   "cell_type": "markdown",
   "metadata": {},
   "source": [
    "We then use that value to index out the actual star, which in this case is Scorpius."
   ]
  },
  {
   "cell_type": "code",
   "execution_count": 51,
   "metadata": {},
   "outputs": [
    {
     "data": {
      "text/plain": [
       "'Scorpius'"
      ]
     },
     "execution_count": 51,
     "metadata": {},
     "output_type": "execute_result"
    }
   ],
   "source": [
    "closest_constellation_name = star_frame.iloc[closest_constellation_index, 0]\n",
    "closest_constellation_name "
   ]
  },
  {
   "cell_type": "markdown",
   "metadata": {},
   "source": [
    "##### Center of the Milky Way in equatorial coordinates"
   ]
  },
  {
   "cell_type": "markdown",
   "metadata": {},
   "source": [
    "In order to pin down the center of the Milky Way in equatorial coordinates, we first need the mean of the X, Y and Z coordinates."
   ]
  },
  {
   "cell_type": "code",
   "execution_count": 56,
   "metadata": {},
   "outputs": [],
   "source": [
    "x_mean = data['X_cord'].mean()\n",
    "y_mean = data['Y_cord'].mean()\n",
    "z_mean = data['Z_cord'].mean()"
   ]
  },
  {
   "cell_type": "markdown",
   "metadata": {},
   "source": [
    "After that, we can work backwards to get degrees for our right ascention and declination. "
   ]
  },
  {
   "cell_type": "code",
   "execution_count": 57,
   "metadata": {},
   "outputs": [],
   "source": [
    "right_ascension = np.arctan2(y_mean, x_mean) * (180 / np.pi)  \n",
    "if right_ascension < 0:\n",
    "    right_ascension += 360 \n",
    "declination = np.arcsin(z_mean / np.sqrt(x_mean**2 + y_mean**2 + z_mean**2)) * (180 / np.pi)\n"
   ]
  },
  {
   "cell_type": "markdown",
   "metadata": {},
   "source": [
    "According to our calculations, these are the equatorial coordinates of the Milky Way :\n",
    "Right Ascension: 253.98541899701445 degrees \n",
    "Declination: -30.895185851877127 degrees"
   ]
  }
 ],
 "metadata": {
  "kernelspec": {
   "display_name": "base",
   "language": "python",
   "name": "python3"
  },
  "language_info": {
   "codemirror_mode": {
    "name": "ipython",
    "version": 3
   },
   "file_extension": ".py",
   "mimetype": "text/x-python",
   "name": "python",
   "nbconvert_exporter": "python",
   "pygments_lexer": "ipython3",
   "version": "3.8.8"
  }
 },
 "nbformat": 4,
 "nbformat_minor": 2
}
